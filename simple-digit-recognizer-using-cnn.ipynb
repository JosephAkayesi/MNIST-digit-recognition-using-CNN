{
 "cells": [
  {
   "cell_type": "markdown",
   "metadata": {
    "_uuid": "b4eb69b3f154f2e9c928a31d8d639efacf549fa5"
   },
   "source": [
    "**Hi there!**\n",
    "\n",
    "Here you'll find a super simple implementation of the MNIST digit recognition using CNN, made by a beginner after some diving into multiple codes.\n",
    "\n",
    "Feel free to fork this repo, or star it if you find it helpful :)"
   ]
  },
  {
   "cell_type": "code",
   "execution_count": null,
   "metadata": {
    "_uuid": "3e29f500c11d4e2fe5ec53be3e888143d3d2fc87"
   },
   "outputs": [],
   "source": [
    "#importing libraries\n",
    "import pandas as pd\n",
    "import matplotlib.pyplot as plt\n",
    "import numpy as np\n",
    "from keras.utils.np_utils import to_categorical\n",
    "from sklearn.model_selection import train_test_split\n",
    "from keras.models import Sequential\n",
    "from keras.layers import Dense, Dropout, Conv2D, Flatten, MaxPool2D\n",
    "from keras.optimizers import Adam\n",
    "from sklearn.metrics import confusion_matrix\n",
    "import itertools"
   ]
  },
  {
   "cell_type": "code",
   "execution_count": null,
   "metadata": {
    "_uuid": "c71618d0500ae5c51f38efbf24840e55c56321c2"
   },
   "outputs": [],
   "source": [
    "#reading data\n",
    "train = pd.read_csv('train.csv')\n",
    "test = pd.read_csv('test.csv')"
   ]
  },
  {
   "cell_type": "code",
   "execution_count": null,
   "metadata": {
    "_uuid": "763f6c1cda549c6678efa5db8578703a80f97385"
   },
   "outputs": [],
   "source": [
    "#train data x and y\n",
    "x_train = train.drop(labels = [\"label\"], axis = 1)\n",
    "y_train = train[\"label\"]"
   ]
  },
  {
   "cell_type": "code",
   "execution_count": null,
   "metadata": {
    "_uuid": "5648056b6a0536baca9256f092404075d974da1b"
   },
   "outputs": [],
   "source": [
    "#normalizing and reshaping data\n",
    "x_train = x_train / 255.0 #pixel values vary between 0 and 255\n",
    "test = test / 255.0\n",
    "x_train = x_train.values.reshape(-1,28,28,1)\n",
    "test = test.values.reshape(-1,28,28,1)"
   ]
  },
  {
   "cell_type": "code",
   "execution_count": null,
   "metadata": {
    "_uuid": "0894ca5bddbffd127ffc34ff4343f3aead88afce"
   },
   "outputs": [],
   "source": [
    "#one hot encoding for y\n",
    "y_train = to_categorical(y_train)\n",
    "#train test split\n",
    "X_train, X_val, Y_train, Y_val = train_test_split(x_train, y_train, test_size = 0.1, random_state = 2)"
   ]
  },
  {
   "cell_type": "code",
   "execution_count": null,
   "metadata": {
    "_uuid": "e32c7328d04f2538796d358ba58d9f3249e78d20"
   },
   "outputs": [],
   "source": [
    "#defining the model\n",
    "model = Sequential()\n",
    "# 2 conv2d layers\n",
    "model.add(Conv2D(filters = 32, kernel_size = (5,5),padding = 'Same', activation ='relu', input_shape = (28,28,1)))\n",
    "model.add(Conv2D(filters = 32, kernel_size = (5,5),padding = 'Same', activation ='relu'))\n",
    "\n",
    "model.add(MaxPool2D(pool_size=(2,2)))\n",
    "model.add(Dropout(0.4)) \n",
    "\n",
    "model.add(Conv2D(filters = 64, kernel_size = (3,3),padding = 'Same', activation ='relu'))\n",
    "model.add(Conv2D(filters = 64, kernel_size = (3,3),padding = 'Same', activation ='relu'))\n",
    "\n",
    "model.add(MaxPool2D(pool_size=(2,2)))\n",
    "model.add(Dropout(0.4))\n",
    "\n",
    "model.add(Flatten()) #flattening the data into a 1D vector, before the fully connected layers\n",
    "model.add(Dense(256, activation = \"relu\"))\n",
    "model.add(Dense(10, activation = 'softmax'))\n",
    "\n",
    "\n",
    "#optimizing the model: using Adam omptimizer\n",
    "optim=Adam(lr=0.0005, beta_1=0.9, beta_2=0.999, epsilon=None, decay=0.0, amsgrad=False)\n",
    "#compiling the model\n",
    "model.compile(loss='categorical_crossentropy',optimizer=optim,metrics=['accuracy'])\n",
    "#training the model\n",
    "model.fit(X_train, Y_train, epochs=10, batch_size=128)"
   ]
  },
  {
   "cell_type": "code",
   "execution_count": null,
   "metadata": {
    "_uuid": "66fae5efd6aa8e58e946a0f53c34660eb4fe5ff0"
   },
   "outputs": [],
   "source": [
    "# Predicting the values from the validation dataset\n",
    "Y_pred = model.predict(X_val)\n",
    "# converting one hot vectors to actual values \n",
    "Y_pred = np.argmax(Y_pred,axis = 1) \n",
    "Y_true = np.argmax(Y_val,axis = 1) \n",
    "# computing the confusion matrix\n",
    "cm = confusion_matrix(Y_true, Y_pred) \n",
    "\n",
    "#plotting the confusion matrix\n",
    "plt.imshow(cm)\n",
    "plt.title('confusion matrix')\n",
    "plt.colorbar()\n",
    "tick_marks = np.arange(10)\n",
    "plt.xticks(tick_marks, range(10), rotation=45)\n",
    "plt.yticks(tick_marks, range(10))\n",
    "\n",
    "thresh = cm.max() / 2.\n",
    "for i, j in itertools.product(range(cm.shape[0]), range(cm.shape[1])):\n",
    "    plt.text(j, i, cm[i, j],\n",
    "             horizontalalignment=\"center\",\n",
    "             color=\"white\" if cm[i, j] > thresh else \"black\")\n",
    "\n",
    "plt.tight_layout()\n",
    "plt.ylabel('True label')\n",
    "plt.xlabel('Predicted label')"
   ]
  },
  {
   "cell_type": "code",
   "execution_count": null,
   "metadata": {
    "_uuid": "6a5b495a57ca2512cf0243aa1766609f07085547"
   },
   "outputs": [],
   "source": [
    "#evaluating the model: 0.9926 accuracy\n",
    "loss_and_metrics = model.evaluate(X_val, Y_val, batch_size=128)\n",
    "loss_and_metrics"
   ]
  },
  {
   "cell_type": "code",
   "execution_count": null,
   "metadata": {
    "_uuid": "c4cf293d8c76a004e351ba21fe91aed60afafb6a"
   },
   "outputs": [],
   "source": [
    "#predicting on the test set\n",
    "y_pred = model.predict(test, batch_size = 128)\n",
    "pred = np.argmax(y_pred,axis = 1)\n",
    "\n",
    "pred = pd.Series(pred,name=\"Label\")\n",
    "#preparing submission\n",
    "submission = pd.concat([pd.Series(range(1,28001),name = \"ImageId\"),pred],axis = 1)\n",
    "\n",
    "submission.to_csv(\"submission.csv\",index=False)"
   ]
  }
 ],
 "metadata": {
  "kernelspec": {
   "display_name": "Python 3",
   "language": "python",
   "name": "python3"
  },
  "language_info": {
   "codemirror_mode": {
    "name": "ipython",
    "version": 3
   },
   "file_extension": ".py",
   "mimetype": "text/x-python",
   "name": "python",
   "nbconvert_exporter": "python",
   "pygments_lexer": "ipython3",
   "version": "3.6.4"
  }
 },
 "nbformat": 4,
 "nbformat_minor": 1
}
